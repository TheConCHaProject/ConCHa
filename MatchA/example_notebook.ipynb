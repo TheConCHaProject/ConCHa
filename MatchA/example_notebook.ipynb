{
  "cells": [
    {
      "cell_type": "markdown",
      "metadata": {},
      "source": [
        "# SHAM Computation and Plotting\n",
        "This notebook demonstrates how to:\n",
        "1. Import and use the `MassFunctionCalculator` from your project.\n",
        "2. Compute halo/gsmf values for a given cosmology.\n",
        "3. Visualize the results with the custom `plot_results` function.\n"
      ]
    },
    {
      "cell_type": "markdown",
      "metadata": {},
      "source": [
        "## 1. Imports and Setup\n",
        "We import Python libraries and possibly update the system path so the `src/` directory can be found."
      ]
    },
    {
      "cell_type": "code",
      "execution_count": null,
      "metadata": {
        "executionInfo": {}
      },
      "outputs": [],
      "source": [
        "import sys\n",
        "import os\n",
        "\n",
        "# If needed, append the path to 'src' so Python can find the modules.\n",
        "# Adjust the path below to match your project structure.\n",
        "project_path = os.path.abspath(\"../project\")  # or the correct path\n",
        "if project_path not in sys.path:\n",
        "    sys.path.append(project_path)\n",
        "\n",
        "# Now import from your project modules\n",
        "from src.calculations import MassFunctionCalculator\n",
        "from src.plotting import plot_results"
      ]
    },
    {
      "cell_type": "markdown",
      "metadata": {},
      "source": [
        "## 2. Define the Cosmology and Compute Values\n",
        "Next, we create a `MassFunctionCalculator` and compute the halo/gsmf data."
      ]
    },
    {
      "cell_type": "code",
      "execution_count": null,
      "metadata": {
        "executionInfo": {}
      },
      "outputs": [],
      "source": [
        "# Example cosmology\n",
        "cosmology = {\n",
        "    'h_0': 0.678,\n",
        "    'O_m0': 0.307115,\n",
        "    'O_b0': 0.048,\n",
        "    'n': 0.96,\n",
        "    'sigma_8': 0.823,\n",
        "    'delta_c': 1.686\n",
        "}\n",
        "\n",
        "hmf_params = {...}\n",
        "\n",
        "# Instantiate the calculator\n",
        "calculator = MassFunctionCalculator(cosmology, z0=0)\n",
        "\n",
        "# Compute results\n",
        "results = calculator.compute_values(num_samples=100)\n",
        "print(\"Computation finished!\")"
      ]
    },
    {
      "cell_type": "markdown",
      "metadata": {},
      "source": [
        "## 3. Choose Keys and (Optionally) Colors\n",
        "We define which keys to plot (e.g., `['9','9p5','10','10p5','11','11p5']`), and optionally pass a color list or a colormap."
      ]
    },
    {
      "cell_type": "code",
      "execution_count": null,
      "metadata": {
        "executionInfo": {}
      },
      "outputs": [],
      "source": [
        "# Keys to plot\n",
        "keys_to_plot = ['9', '9p5', '10', '10p5', '11', '11p5']\n",
        "\n",
        "# Example of user-defined colors (optional, must match length of keys)\n",
        "# user_colors = [\"#FF0000\", \"#00FF00\", \"#0000FF\", \"#FFFF00\", \"#FF00FF\", \"#00FFFF\"]\n",
        "user_colors = None  # If None, we use a colormap\n",
        "    \n",
        "# Chosen colormap (if user_colors is None)\n",
        "colormap = 'coolwarm'\n",
        "\n",
        "print(\"Keys:\", keys_to_plot)\n",
        "print(\"Colors:\", user_colors if user_colors else f\"Using colormap '{colormap}'\")"
      ]
    },
    {
      "cell_type": "markdown",
      "metadata": {},
      "source": [
        "## 4. Plot the Results\n",
        "Finally, we call `plot_results` to generate the two plots (cumulative halo density and evolution of stellar mass)."
      ]
    },
    {
      "cell_type": "code",
      "execution_count": null,
      "metadata": {
        "executionInfo": {}
      },
      "outputs": [],
      "source": [
        "plot_results(\n",
        "    results,\n",
        "    keys=keys_to_plot,\n",
        "    data_filename='sham_lognormal_distributions.dat',\n",
        "    user_colors=user_colors,\n",
        "    colormap=colormap\n",
        ")"
      ]
    },
    {
      "cell_type": "markdown",
      "metadata": {},
      "source": [
        "When you run the cell above, you should see the two plots appear:\n",
        "1. **Cumulative halo number density** (`nvir`) vs `(1+z)`.\n",
        "2. **Stellar mass evolution** vs `(1+z)`.\n"
      ]
    }
  ],
  "metadata": {
    "kernelspec": {
      "display_name": "aldos_codes",
      "language": "python",
      "name": "python3"
    },
    "language_info": {
      "codemirror_mode": {
        "name": "ipython",
        "version": 3
      },
      "file_extension": ".py",
      "mimetype": "text/x-python",
      "name": "python",
      "nbconvert_exporter": "python",
      "pygments_lexer": "ipython3",
      "version": "3.13.2"
    }
  },
  "nbformat": 4,
  "nbformat_minor": 5
}
